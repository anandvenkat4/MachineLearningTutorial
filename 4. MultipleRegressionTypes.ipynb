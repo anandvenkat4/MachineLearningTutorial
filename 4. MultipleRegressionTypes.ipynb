{
 "cells": [
  {
   "cell_type": "code",
   "execution_count": 1,
   "metadata": {},
   "outputs": [],
   "source": [
    "import pandas as pd\n",
    "import matplotlib.pyplot as plt\n",
    "\n",
    "from sklearn.model_selection import train_test_split\n",
    "from sklearn.metrics import r2_score"
   ]
  },
  {
   "cell_type": "code",
   "execution_count": 2,
   "metadata": {},
   "outputs": [
    {
     "data": {
      "text/html": [
       "<div>\n",
       "<style scoped>\n",
       "    .dataframe tbody tr th:only-of-type {\n",
       "        vertical-align: middle;\n",
       "    }\n",
       "\n",
       "    .dataframe tbody tr th {\n",
       "        vertical-align: top;\n",
       "    }\n",
       "\n",
       "    .dataframe thead th {\n",
       "        text-align: right;\n",
       "    }\n",
       "</style>\n",
       "<table border=\"1\" class=\"dataframe\">\n",
       "  <thead>\n",
       "    <tr style=\"text-align: right;\">\n",
       "      <th></th>\n",
       "      <th>price</th>\n",
       "      <th>cut_Fair</th>\n",
       "      <th>cut_Good</th>\n",
       "      <th>cut_Ideal</th>\n",
       "      <th>cut_Premium</th>\n",
       "      <th>cut_Very Good</th>\n",
       "      <th>color_D</th>\n",
       "      <th>color_E</th>\n",
       "      <th>color_F</th>\n",
       "      <th>color_G</th>\n",
       "      <th>color_H</th>\n",
       "      <th>color_I</th>\n",
       "      <th>color_J</th>\n",
       "      <th>carat</th>\n",
       "      <th>depth</th>\n",
       "      <th>table</th>\n",
       "      <th>x</th>\n",
       "      <th>y</th>\n",
       "      <th>z</th>\n",
       "    </tr>\n",
       "    <tr>\n",
       "      <th>clarity</th>\n",
       "      <th></th>\n",
       "      <th></th>\n",
       "      <th></th>\n",
       "      <th></th>\n",
       "      <th></th>\n",
       "      <th></th>\n",
       "      <th></th>\n",
       "      <th></th>\n",
       "      <th></th>\n",
       "      <th></th>\n",
       "      <th></th>\n",
       "      <th></th>\n",
       "      <th></th>\n",
       "      <th></th>\n",
       "      <th></th>\n",
       "      <th></th>\n",
       "      <th></th>\n",
       "      <th></th>\n",
       "      <th></th>\n",
       "    </tr>\n",
       "  </thead>\n",
       "  <tbody>\n",
       "    <tr>\n",
       "      <th>3</th>\n",
       "      <td>1076</td>\n",
       "      <td>0</td>\n",
       "      <td>0</td>\n",
       "      <td>1</td>\n",
       "      <td>0</td>\n",
       "      <td>0</td>\n",
       "      <td>1</td>\n",
       "      <td>0</td>\n",
       "      <td>0</td>\n",
       "      <td>0</td>\n",
       "      <td>0</td>\n",
       "      <td>0</td>\n",
       "      <td>0</td>\n",
       "      <td>-0.808459</td>\n",
       "      <td>0.468970</td>\n",
       "      <td>-1.537145</td>\n",
       "      <td>-0.840716</td>\n",
       "      <td>-0.884647</td>\n",
       "      <td>-0.757601</td>\n",
       "    </tr>\n",
       "    <tr>\n",
       "      <th>3</th>\n",
       "      <td>5370</td>\n",
       "      <td>0</td>\n",
       "      <td>0</td>\n",
       "      <td>0</td>\n",
       "      <td>0</td>\n",
       "      <td>1</td>\n",
       "      <td>0</td>\n",
       "      <td>0</td>\n",
       "      <td>0</td>\n",
       "      <td>0</td>\n",
       "      <td>1</td>\n",
       "      <td>0</td>\n",
       "      <td>0</td>\n",
       "      <td>0.525131</td>\n",
       "      <td>-1.916440</td>\n",
       "      <td>0.692890</td>\n",
       "      <td>0.843892</td>\n",
       "      <td>0.873896</td>\n",
       "      <td>0.548199</td>\n",
       "    </tr>\n",
       "    <tr>\n",
       "      <th>4</th>\n",
       "      <td>732</td>\n",
       "      <td>0</td>\n",
       "      <td>0</td>\n",
       "      <td>0</td>\n",
       "      <td>1</td>\n",
       "      <td>0</td>\n",
       "      <td>1</td>\n",
       "      <td>0</td>\n",
       "      <td>0</td>\n",
       "      <td>0</td>\n",
       "      <td>0</td>\n",
       "      <td>0</td>\n",
       "      <td>0</td>\n",
       "      <td>-1.037669</td>\n",
       "      <td>-0.372940</td>\n",
       "      <td>0.692890</td>\n",
       "      <td>-1.230836</td>\n",
       "      <td>-1.286344</td>\n",
       "      <td>-1.197310</td>\n",
       "    </tr>\n",
       "    <tr>\n",
       "      <th>5</th>\n",
       "      <td>936</td>\n",
       "      <td>0</td>\n",
       "      <td>0</td>\n",
       "      <td>1</td>\n",
       "      <td>0</td>\n",
       "      <td>0</td>\n",
       "      <td>0</td>\n",
       "      <td>0</td>\n",
       "      <td>0</td>\n",
       "      <td>1</td>\n",
       "      <td>0</td>\n",
       "      <td>0</td>\n",
       "      <td>0</td>\n",
       "      <td>-0.995995</td>\n",
       "      <td>-0.443099</td>\n",
       "      <td>-1.091138</td>\n",
       "      <td>-1.133306</td>\n",
       "      <td>-1.170298</td>\n",
       "      <td>-1.104038</td>\n",
       "    </tr>\n",
       "    <tr>\n",
       "      <th>1</th>\n",
       "      <td>9385</td>\n",
       "      <td>0</td>\n",
       "      <td>0</td>\n",
       "      <td>0</td>\n",
       "      <td>1</td>\n",
       "      <td>0</td>\n",
       "      <td>0</td>\n",
       "      <td>0</td>\n",
       "      <td>0</td>\n",
       "      <td>0</td>\n",
       "      <td>1</td>\n",
       "      <td>0</td>\n",
       "      <td>0</td>\n",
       "      <td>1.650347</td>\n",
       "      <td>0.609288</td>\n",
       "      <td>0.692890</td>\n",
       "      <td>1.500002</td>\n",
       "      <td>1.489833</td>\n",
       "      <td>1.467589</td>\n",
       "    </tr>\n",
       "  </tbody>\n",
       "</table>\n",
       "</div>"
      ],
      "text/plain": [
       "         price  cut_Fair  cut_Good  cut_Ideal  cut_Premium  cut_Very Good  \\\n",
       "clarity                                                                     \n",
       "3         1076         0         0          1            0              0   \n",
       "3         5370         0         0          0            0              1   \n",
       "4          732         0         0          0            1              0   \n",
       "5          936         0         0          1            0              0   \n",
       "1         9385         0         0          0            1              0   \n",
       "\n",
       "         color_D  color_E  color_F  color_G  color_H  color_I  color_J  \\\n",
       "clarity                                                                  \n",
       "3              1        0        0        0        0        0        0   \n",
       "3              0        0        0        0        1        0        0   \n",
       "4              1        0        0        0        0        0        0   \n",
       "5              0        0        0        1        0        0        0   \n",
       "1              0        0        0        0        1        0        0   \n",
       "\n",
       "            carat     depth     table         x         y         z  \n",
       "clarity                                                              \n",
       "3       -0.808459  0.468970 -1.537145 -0.840716 -0.884647 -0.757601  \n",
       "3        0.525131 -1.916440  0.692890  0.843892  0.873896  0.548199  \n",
       "4       -1.037669 -0.372940  0.692890 -1.230836 -1.286344 -1.197310  \n",
       "5       -0.995995 -0.443099 -1.091138 -1.133306 -1.170298 -1.104038  \n",
       "1        1.650347  0.609288  0.692890  1.500002  1.489833  1.467589  "
      ]
     },
     "execution_count": 2,
     "metadata": {},
     "output_type": "execute_result"
    }
   ],
   "source": [
    "data = pd.read_csv('datasets/diamond_processed_venkat.csv', index_col=0)\n",
    "data.head()"
   ]
  },
  {
   "cell_type": "code",
   "execution_count": 3,
   "metadata": {},
   "outputs": [
    {
     "data": {
      "text/plain": [
       "(10788, 19)"
      ]
     },
     "execution_count": 3,
     "metadata": {},
     "output_type": "execute_result"
    }
   ],
   "source": [
    "data.shape"
   ]
  },
  {
   "cell_type": "code",
   "execution_count": 4,
   "metadata": {},
   "outputs": [],
   "source": [
    "from sklearn.linear_model import LinearRegression\n",
    "\n",
    "def linear_model(x_train, y_train):\n",
    "    print(\"Working on Linear Regression Model\")\n",
    "    \n",
    "    lr = LinearRegression()\n",
    "    lr.fit(x_train, y_train)\n",
    "    \n",
    "    return lr"
   ]
  },
  {
   "cell_type": "code",
   "execution_count": 5,
   "metadata": {},
   "outputs": [],
   "source": [
    "from sklearn.linear_model import Lasso\n",
    "\n",
    "def lasso_model(x_train, y_train):\n",
    "    print(\"Working on Lasso Regression Model\")\n",
    "    \n",
    "    ls = Lasso(alpha=0.8, max_iter=10000)\n",
    "    ls.fit(x_train, y_train)\n",
    "    \n",
    "    return ls"
   ]
  },
  {
   "cell_type": "code",
   "execution_count": 6,
   "metadata": {},
   "outputs": [],
   "source": [
    "from sklearn.linear_model import Ridge\n",
    "\n",
    "def ridge_model(x_train, y_train):\n",
    "    print(\"Working on Ridge Regression Model\")\n",
    "    \n",
    "    rd = Ridge(alpha=0.9)\n",
    "    rd.fit(x_train, y_train)\n",
    "    \n",
    "    return rd"
   ]
  },
  {
   "cell_type": "code",
   "execution_count": 7,
   "metadata": {},
   "outputs": [],
   "source": [
    "def build_and_train_model(data, target_name, reg_fn):\n",
    "    X = data.drop(target_name, axis=1)\n",
    "    Y = data[target_name]\n",
    "    \n",
    "    x_train, x_test, y_train, y_test = train_test_split(X, Y, test_size = 0.2, random_state = 0)\n",
    "    model = reg_fn(x_train, y_train)\n",
    "    \n",
    "    score = model.score(x_train, y_train)\n",
    "    print(\"Training Score: \", score)\n",
    "    \n",
    "    y_pred = model.predict(x_test)\n",
    "    r_score = r2_score(y_test, y_pred)\n",
    "    \n",
    "    print(\"Testing Score: \", r_score)\n",
    "    \n",
    "    return {\"model\" : model,\n",
    "           \"x_train\": x_train,\n",
    "           \"y_train\": y_train,\n",
    "           \"x_test\": x_test,\n",
    "           \"y_test\": y_test,\n",
    "           \"y_pred\": y_pred}\n",
    "    "
   ]
  },
  {
   "cell_type": "code",
   "execution_count": 8,
   "metadata": {},
   "outputs": [
    {
     "name": "stdout",
     "output_type": "stream",
     "text": [
      "Working on Linear Regression Model\n",
      "Training Score:  0.8809242407127091\n",
      "Testing Score:  0.8886752199013835\n"
     ]
    }
   ],
   "source": [
    "linear_regression = build_and_train_model(data, \"price\", linear_model)"
   ]
  },
  {
   "cell_type": "code",
   "execution_count": 9,
   "metadata": {},
   "outputs": [
    {
     "name": "stdout",
     "output_type": "stream",
     "text": [
      "Working on Lasso Regression Model\n",
      "Training Score:  0.8808343488739523\n",
      "Testing Score:  0.8885207118145195\n"
     ]
    }
   ],
   "source": [
    "lasso_regression = build_and_train_model(data, \"price\", lasso_model)"
   ]
  },
  {
   "cell_type": "code",
   "execution_count": 10,
   "metadata": {},
   "outputs": [
    {
     "name": "stdout",
     "output_type": "stream",
     "text": [
      "Working on Ridge Regression Model\n",
      "Training Score:  0.8809143924104876\n",
      "Testing Score:  0.8886266890933923\n"
     ]
    }
   ],
   "source": [
    "ridge_regression = build_and_train_model(data, \"price\", ridge_model)"
   ]
  },
  {
   "cell_type": "code",
   "execution_count": 23,
   "metadata": {},
   "outputs": [],
   "source": [
    "from sklearn.linear_model import SGDRegressor\n",
    "\n",
    "def sgd_model(x_train, y_train):\n",
    "    print(\"Working on Stochastic Gradient Descent Regression Model\")\n",
    "    \n",
    "    sgd = SGDRegressor(max_iter=2500)\n",
    "    sgd.fit(x_train, y_train)\n",
    "    \n",
    "    return sgd"
   ]
  },
  {
   "cell_type": "code",
   "execution_count": 24,
   "metadata": {},
   "outputs": [
    {
     "name": "stdout",
     "output_type": "stream",
     "text": [
      "Working on Stochastic Gradient Descent Regression Model\n",
      "Training Score:  0.874944686446041\n",
      "Testing Score:  0.8863935303789885\n"
     ]
    }
   ],
   "source": [
    "sgd_regression = build_and_train_model(data, \"price\", sgd_model)"
   ]
  },
  {
   "cell_type": "code",
   "execution_count": null,
   "metadata": {},
   "outputs": [],
   "source": []
  }
 ],
 "metadata": {
  "kernelspec": {
   "display_name": "Python 3",
   "language": "python",
   "name": "python3"
  },
  "language_info": {
   "codemirror_mode": {
    "name": "ipython",
    "version": 3
   },
   "file_extension": ".py",
   "mimetype": "text/x-python",
   "name": "python",
   "nbconvert_exporter": "python",
   "pygments_lexer": "ipython3",
   "version": "3.6.5"
  }
 },
 "nbformat": 4,
 "nbformat_minor": 2
}
